{
 "metadata": {
  "language_info": {
   "codemirror_mode": {
    "name": "ipython",
    "version": 3
   },
   "file_extension": ".py",
   "mimetype": "text/x-python",
   "name": "python",
   "nbconvert_exporter": "python",
   "pygments_lexer": "ipython3",
   "version": "3.8.3-final"
  },
  "orig_nbformat": 2,
  "kernelspec": {
   "name": "python3",
   "display_name": "Python 3"
  }
 },
 "nbformat": 4,
 "nbformat_minor": 2,
 "cells": [
  {
   "source": [
    "## Teste Técnico Bemol - Assistente Administrativo\n",
    "### Base de dados 2\n",
    "Adham Lucas da Silva Oliveira\n"
   ],
   "cell_type": "markdown",
   "metadata": {}
  },
  {
   "cell_type": "code",
   "execution_count": 2,
   "metadata": {},
   "outputs": [],
   "source": [
    "## Reservado para a importação de bibliotecas\n",
    "import pandas as pd\n",
    "import matplotlib.pyplot as plt\n",
    "import seaborn as sns\n",
    "import numpy as np"
   ]
  },
  {
   "cell_type": "code",
   "execution_count": 3,
   "metadata": {},
   "outputs": [
    {
     "output_type": "execute_result",
     "data": {
      "text/plain": [
       "     Loja          data_compra      inicio     termino              Loja.1  \\\n",
       "0     430  2019-07-05 10:30:41  2019-07-05  2019-07-20  Mercadinho Daskina   \n",
       "1     430  2019-07-05 11:58:18  2019-07-05  2019-07-20  Mercadinho Daskina   \n",
       "2     430  2019-07-05 14:06:58  2019-07-05  2019-07-20  Mercadinho Daskina   \n",
       "3     430  2019-07-05 14:50:06  2019-07-05  2019-07-20  Mercadinho Daskina   \n",
       "4     430  2019-07-05 16:04:56  2019-07-05  2019-07-20  Mercadinho Daskina   \n",
       "..    ...                  ...         ...         ...                 ...   \n",
       "894   430   2019-07-02 9:40:35  2019-07-05  2019-07-20  Mercadinho Daskina   \n",
       "895   430   2019-07-02 9:41:57  2019-07-05  2019-07-20  Mercadinho Daskina   \n",
       "896   430   2019-07-02 9:39:47  2019-07-05  2019-07-20  Mercadinho Daskina   \n",
       "897   430   2019-07-02 9:36:06  2019-07-05  2019-07-20  Mercadinho Daskina   \n",
       "898   430   2019-07-02 9:41:05  2019-07-05  2019-07-20  Mercadinho Daskina   \n",
       "\n",
       "            codloja  produto            EAN  quantidade valor_total  Imposto  \n",
       "0    49618556000135  Açaí 1L  3298491451501           1     R$ 9.23  R$ 1.58  \n",
       "1    49618556000135  Açaí 1L  3298491451501           1     R$ 9.23  R$ 1.58  \n",
       "2    49618556000135  Açaí 1L  3298491451501           1     R$ 9.23  R$ 1.58  \n",
       "3    49618556000135  Açaí 1L  3298491451501           1     R$ 9.23  R$ 1.58  \n",
       "4    49618556000135  Açaí 1L  3298491451501           3    R$ 27.68  R$ 4.74  \n",
       "..              ...      ...            ...         ...         ...      ...  \n",
       "894  49618556000216  Açaí 1L  3298491451501           1     R$ 9.23    $0.00  \n",
       "895  49618556000216  Açaí 1L  3298491451501           1     R$ 9.23    $0.00  \n",
       "896  49618556000216  Açaí 1L  3298491451501           3    R$ 27.68    $0.00  \n",
       "897  49618556000216  Açaí 1L  3298491451501           1     R$ 9.23    $0.00  \n",
       "898  49618556000216  Açaí 1L  3298491451501           1     R$ 9.23    $0.00  \n",
       "\n",
       "[899 rows x 11 columns]"
      ],
      "text/html": "<div>\n<style scoped>\n    .dataframe tbody tr th:only-of-type {\n        vertical-align: middle;\n    }\n\n    .dataframe tbody tr th {\n        vertical-align: top;\n    }\n\n    .dataframe thead th {\n        text-align: right;\n    }\n</style>\n<table border=\"1\" class=\"dataframe\">\n  <thead>\n    <tr style=\"text-align: right;\">\n      <th></th>\n      <th>Loja</th>\n      <th>data_compra</th>\n      <th>inicio</th>\n      <th>termino</th>\n      <th>Loja.1</th>\n      <th>codloja</th>\n      <th>produto</th>\n      <th>EAN</th>\n      <th>quantidade</th>\n      <th>valor_total</th>\n      <th>Imposto</th>\n    </tr>\n  </thead>\n  <tbody>\n    <tr>\n      <th>0</th>\n      <td>430</td>\n      <td>2019-07-05 10:30:41</td>\n      <td>2019-07-05</td>\n      <td>2019-07-20</td>\n      <td>Mercadinho Daskina</td>\n      <td>49618556000135</td>\n      <td>Açaí 1L</td>\n      <td>3298491451501</td>\n      <td>1</td>\n      <td>R$ 9.23</td>\n      <td>R$ 1.58</td>\n    </tr>\n    <tr>\n      <th>1</th>\n      <td>430</td>\n      <td>2019-07-05 11:58:18</td>\n      <td>2019-07-05</td>\n      <td>2019-07-20</td>\n      <td>Mercadinho Daskina</td>\n      <td>49618556000135</td>\n      <td>Açaí 1L</td>\n      <td>3298491451501</td>\n      <td>1</td>\n      <td>R$ 9.23</td>\n      <td>R$ 1.58</td>\n    </tr>\n    <tr>\n      <th>2</th>\n      <td>430</td>\n      <td>2019-07-05 14:06:58</td>\n      <td>2019-07-05</td>\n      <td>2019-07-20</td>\n      <td>Mercadinho Daskina</td>\n      <td>49618556000135</td>\n      <td>Açaí 1L</td>\n      <td>3298491451501</td>\n      <td>1</td>\n      <td>R$ 9.23</td>\n      <td>R$ 1.58</td>\n    </tr>\n    <tr>\n      <th>3</th>\n      <td>430</td>\n      <td>2019-07-05 14:50:06</td>\n      <td>2019-07-05</td>\n      <td>2019-07-20</td>\n      <td>Mercadinho Daskina</td>\n      <td>49618556000135</td>\n      <td>Açaí 1L</td>\n      <td>3298491451501</td>\n      <td>1</td>\n      <td>R$ 9.23</td>\n      <td>R$ 1.58</td>\n    </tr>\n    <tr>\n      <th>4</th>\n      <td>430</td>\n      <td>2019-07-05 16:04:56</td>\n      <td>2019-07-05</td>\n      <td>2019-07-20</td>\n      <td>Mercadinho Daskina</td>\n      <td>49618556000135</td>\n      <td>Açaí 1L</td>\n      <td>3298491451501</td>\n      <td>3</td>\n      <td>R$ 27.68</td>\n      <td>R$ 4.74</td>\n    </tr>\n    <tr>\n      <th>...</th>\n      <td>...</td>\n      <td>...</td>\n      <td>...</td>\n      <td>...</td>\n      <td>...</td>\n      <td>...</td>\n      <td>...</td>\n      <td>...</td>\n      <td>...</td>\n      <td>...</td>\n      <td>...</td>\n    </tr>\n    <tr>\n      <th>894</th>\n      <td>430</td>\n      <td>2019-07-02 9:40:35</td>\n      <td>2019-07-05</td>\n      <td>2019-07-20</td>\n      <td>Mercadinho Daskina</td>\n      <td>49618556000216</td>\n      <td>Açaí 1L</td>\n      <td>3298491451501</td>\n      <td>1</td>\n      <td>R$ 9.23</td>\n      <td>$0.00</td>\n    </tr>\n    <tr>\n      <th>895</th>\n      <td>430</td>\n      <td>2019-07-02 9:41:57</td>\n      <td>2019-07-05</td>\n      <td>2019-07-20</td>\n      <td>Mercadinho Daskina</td>\n      <td>49618556000216</td>\n      <td>Açaí 1L</td>\n      <td>3298491451501</td>\n      <td>1</td>\n      <td>R$ 9.23</td>\n      <td>$0.00</td>\n    </tr>\n    <tr>\n      <th>896</th>\n      <td>430</td>\n      <td>2019-07-02 9:39:47</td>\n      <td>2019-07-05</td>\n      <td>2019-07-20</td>\n      <td>Mercadinho Daskina</td>\n      <td>49618556000216</td>\n      <td>Açaí 1L</td>\n      <td>3298491451501</td>\n      <td>3</td>\n      <td>R$ 27.68</td>\n      <td>$0.00</td>\n    </tr>\n    <tr>\n      <th>897</th>\n      <td>430</td>\n      <td>2019-07-02 9:36:06</td>\n      <td>2019-07-05</td>\n      <td>2019-07-20</td>\n      <td>Mercadinho Daskina</td>\n      <td>49618556000216</td>\n      <td>Açaí 1L</td>\n      <td>3298491451501</td>\n      <td>1</td>\n      <td>R$ 9.23</td>\n      <td>$0.00</td>\n    </tr>\n    <tr>\n      <th>898</th>\n      <td>430</td>\n      <td>2019-07-02 9:41:05</td>\n      <td>2019-07-05</td>\n      <td>2019-07-20</td>\n      <td>Mercadinho Daskina</td>\n      <td>49618556000216</td>\n      <td>Açaí 1L</td>\n      <td>3298491451501</td>\n      <td>1</td>\n      <td>R$ 9.23</td>\n      <td>$0.00</td>\n    </tr>\n  </tbody>\n</table>\n<p>899 rows × 11 columns</p>\n</div>"
     },
     "metadata": {},
     "execution_count": 3
    }
   ],
   "source": [
    "#Leitura do dataset 2\n",
    "dataset = pd.read_csv('/home/adham/projects/teste-tecnico-bemol/dataset/Desafio - Relatório - Ass de Projetos - Dados - Questão 2.csv')\n",
    "dataset"
   ]
  },
  {
   "cell_type": "code",
   "execution_count": 4,
   "metadata": {},
   "outputs": [
    {
     "output_type": "stream",
     "name": "stdout",
     "text": [
      "<class 'pandas.core.frame.DataFrame'>\nRangeIndex: 899 entries, 0 to 898\nData columns (total 11 columns):\n #   Column       Non-Null Count  Dtype \n---  ------       --------------  ----- \n 0   Loja         899 non-null    int64 \n 1   data_compra  899 non-null    object\n 2   inicio       899 non-null    object\n 3   termino      899 non-null    object\n 4   Loja.1       899 non-null    object\n 5   codloja      899 non-null    int64 \n 6   produto      899 non-null    object\n 7   EAN          899 non-null    int64 \n 8   quantidade   899 non-null    int64 \n 9   valor_total  899 non-null    object\n 10  Imposto      899 non-null    object\ndtypes: int64(4), object(7)\nmemory usage: 77.4+ KB\n"
     ]
    }
   ],
   "source": [
    "dataset.info()"
   ]
  },
  {
   "source": [
    "Verificando existência de atributos nulo"
   ],
   "cell_type": "markdown",
   "metadata": {}
  },
  {
   "cell_type": "code",
   "execution_count": 5,
   "metadata": {},
   "outputs": [
    {
     "output_type": "execute_result",
     "data": {
      "text/plain": [
       "Loja           0\n",
       "data_compra    0\n",
       "inicio         0\n",
       "termino        0\n",
       "Loja.1         0\n",
       "codloja        0\n",
       "produto        0\n",
       "EAN            0\n",
       "quantidade     0\n",
       "valor_total    0\n",
       "Imposto        0\n",
       "dtype: int64"
      ]
     },
     "metadata": {},
     "execution_count": 5
    }
   ],
   "source": [
    "dataset.isnull().sum()"
   ]
  },
  {
   "source": [
    "**Removendo o 'R$' e ',' dos valores da coluna valor_compra para conversão no tipo float e para uso na análise**"
   ],
   "cell_type": "markdown",
   "metadata": {}
  },
  {
   "cell_type": "code",
   "execution_count": 6,
   "metadata": {},
   "outputs": [
    {
     "output_type": "execute_result",
     "data": {
      "text/plain": [
       "Loja             int64\n",
       "data_compra     object\n",
       "inicio          object\n",
       "termino         object\n",
       "Loja.1          object\n",
       "codloja          int64\n",
       "produto         object\n",
       "EAN              int64\n",
       "quantidade       int64\n",
       "valor_total    float64\n",
       "Imposto         object\n",
       "dtype: object"
      ]
     },
     "metadata": {},
     "execution_count": 6
    }
   ],
   "source": [
    "dataset['valor_total'] = dataset['valor_total'].replace(to_replace ='R\\$', value = '', regex = True)\n",
    "dataset['valor_total'] = dataset['valor_total'].replace(to_replace =',', value = '', regex = True)\n",
    "dataset = dataset.astype({'valor_total':'float64'})\n",
    "dataset.dtypes"
   ]
  },
  {
   "source": [
    "** Normalizando a coluna de 'data_compra' para datetime sem o horário**"
   ],
   "cell_type": "markdown",
   "metadata": {}
  },
  {
   "cell_type": "code",
   "execution_count": 16,
   "metadata": {},
   "outputs": [
    {
     "output_type": "execute_result",
     "data": {
      "text/plain": [
       "   Loja data_compra      inicio     termino              Loja.1  \\\n",
       "0   430  2019-07-05  2019-07-05  2019-07-20  Mercadinho Daskina   \n",
       "1   430  2019-07-05  2019-07-05  2019-07-20  Mercadinho Daskina   \n",
       "2   430  2019-07-05  2019-07-05  2019-07-20  Mercadinho Daskina   \n",
       "3   430  2019-07-05  2019-07-05  2019-07-20  Mercadinho Daskina   \n",
       "4   430  2019-07-05  2019-07-05  2019-07-20  Mercadinho Daskina   \n",
       "\n",
       "          codloja  produto            EAN  quantidade  valor_total  Imposto  \n",
       "0  49618556000135  Açaí 1L  3298491451501           1         9.23  R$ 1.58  \n",
       "1  49618556000135  Açaí 1L  3298491451501           1         9.23  R$ 1.58  \n",
       "2  49618556000135  Açaí 1L  3298491451501           1         9.23  R$ 1.58  \n",
       "3  49618556000135  Açaí 1L  3298491451501           1         9.23  R$ 1.58  \n",
       "4  49618556000135  Açaí 1L  3298491451501           3        27.68  R$ 4.74  "
      ],
      "text/html": "<div>\n<style scoped>\n    .dataframe tbody tr th:only-of-type {\n        vertical-align: middle;\n    }\n\n    .dataframe tbody tr th {\n        vertical-align: top;\n    }\n\n    .dataframe thead th {\n        text-align: right;\n    }\n</style>\n<table border=\"1\" class=\"dataframe\">\n  <thead>\n    <tr style=\"text-align: right;\">\n      <th></th>\n      <th>Loja</th>\n      <th>data_compra</th>\n      <th>inicio</th>\n      <th>termino</th>\n      <th>Loja.1</th>\n      <th>codloja</th>\n      <th>produto</th>\n      <th>EAN</th>\n      <th>quantidade</th>\n      <th>valor_total</th>\n      <th>Imposto</th>\n    </tr>\n  </thead>\n  <tbody>\n    <tr>\n      <th>0</th>\n      <td>430</td>\n      <td>2019-07-05</td>\n      <td>2019-07-05</td>\n      <td>2019-07-20</td>\n      <td>Mercadinho Daskina</td>\n      <td>49618556000135</td>\n      <td>Açaí 1L</td>\n      <td>3298491451501</td>\n      <td>1</td>\n      <td>9.23</td>\n      <td>R$ 1.58</td>\n    </tr>\n    <tr>\n      <th>1</th>\n      <td>430</td>\n      <td>2019-07-05</td>\n      <td>2019-07-05</td>\n      <td>2019-07-20</td>\n      <td>Mercadinho Daskina</td>\n      <td>49618556000135</td>\n      <td>Açaí 1L</td>\n      <td>3298491451501</td>\n      <td>1</td>\n      <td>9.23</td>\n      <td>R$ 1.58</td>\n    </tr>\n    <tr>\n      <th>2</th>\n      <td>430</td>\n      <td>2019-07-05</td>\n      <td>2019-07-05</td>\n      <td>2019-07-20</td>\n      <td>Mercadinho Daskina</td>\n      <td>49618556000135</td>\n      <td>Açaí 1L</td>\n      <td>3298491451501</td>\n      <td>1</td>\n      <td>9.23</td>\n      <td>R$ 1.58</td>\n    </tr>\n    <tr>\n      <th>3</th>\n      <td>430</td>\n      <td>2019-07-05</td>\n      <td>2019-07-05</td>\n      <td>2019-07-20</td>\n      <td>Mercadinho Daskina</td>\n      <td>49618556000135</td>\n      <td>Açaí 1L</td>\n      <td>3298491451501</td>\n      <td>1</td>\n      <td>9.23</td>\n      <td>R$ 1.58</td>\n    </tr>\n    <tr>\n      <th>4</th>\n      <td>430</td>\n      <td>2019-07-05</td>\n      <td>2019-07-05</td>\n      <td>2019-07-20</td>\n      <td>Mercadinho Daskina</td>\n      <td>49618556000135</td>\n      <td>Açaí 1L</td>\n      <td>3298491451501</td>\n      <td>3</td>\n      <td>27.68</td>\n      <td>R$ 4.74</td>\n    </tr>\n  </tbody>\n</table>\n</div>"
     },
     "metadata": {},
     "execution_count": 16
    }
   ],
   "source": [
    "dataset['data_compra'] = pd.to_datetime(dataset['data_compra']).dt.normalize()\n",
    "dataset.head(5)"
   ]
  },
  {
   "source": [
    "Verificar quantas lojas diferentes existem no dataset"
   ],
   "cell_type": "markdown",
   "metadata": {}
  },
  {
   "cell_type": "code",
   "execution_count": 7,
   "metadata": {},
   "outputs": [
    {
     "output_type": "execute_result",
     "data": {
      "text/plain": [
       "Loja.1\n",
       "Mercadinho Daskina    899\n",
       "dtype: int64"
      ]
     },
     "metadata": {},
     "execution_count": 7
    }
   ],
   "source": [
    "dataset.groupby('Loja.1').size()"
   ]
  },
  {
   "source": [
    "Verificando quais e quantos produtos diferentes existem no dataset"
   ],
   "cell_type": "markdown",
   "metadata": {}
  },
  {
   "cell_type": "code",
   "execution_count": 8,
   "metadata": {},
   "outputs": [
    {
     "output_type": "execute_result",
     "data": {
      "text/plain": [
       "produto\n",
       "Açaí 1L         612\n",
       "Açaí 1L Zero    287\n",
       "dtype: int64"
      ]
     },
     "metadata": {},
     "execution_count": 8
    }
   ],
   "source": [
    "produtos_quantidade = dataset.groupby('produto').size()\n",
    "produtos_quantidade"
   ]
  },
  {
   "source": [
    "### Valor total de vendas do Mercadinho Daskina\n",
    "\n",
    "**R$ 10436.97**"
   ],
   "cell_type": "markdown",
   "metadata": {}
  },
  {
   "cell_type": "code",
   "execution_count": 9,
   "metadata": {},
   "outputs": [
    {
     "output_type": "execute_result",
     "data": {
      "text/plain": [
       "10436.71"
      ]
     },
     "metadata": {},
     "execution_count": 9
    }
   ],
   "source": [
    "dataset['valor_total'].sum()"
   ]
  },
  {
   "source": [
    "### Comparação de arrecadação total por produto"
   ],
   "cell_type": "markdown",
   "metadata": {}
  },
  {
   "cell_type": "code",
   "execution_count": 10,
   "metadata": {
    "tags": []
   },
   "outputs": [
    {
     "output_type": "stream",
     "name": "stdout",
     "text": [
      "Total Açaí 1L = R$7260.93\nTotal Açaí 1L Zero = R$3175.78\n"
     ]
    }
   ],
   "source": [
    "produtos = dataset['produto'].unique()\n",
    "\n",
    "total_produto1 = dataset.groupby('produto').get_group(produtos[0])['valor_total'].sum()\n",
    "\n",
    "total_produto2 = dataset.groupby('produto').get_group(produtos[1])['valor_total'].sum()\n",
    "\n",
    "print('Total %s = R$%.2f' % (produtos[0], total_produto1))\n",
    "print('Total %s = R$%.2f' % (produtos[1], total_produto2))"
   ]
  },
  {
   "cell_type": "code",
   "execution_count": 11,
   "metadata": {},
   "outputs": [
    {
     "output_type": "display_data",
     "data": {
      "text/plain": "<Figure size 432x288 with 1 Axes>",
      "image/svg+xml": "<?xml version=\"1.0\" encoding=\"utf-8\" standalone=\"no\"?>\n<!DOCTYPE svg PUBLIC \"-//W3C//DTD SVG 1.1//EN\"\n  \"http://www.w3.org/Graphics/SVG/1.1/DTD/svg11.dtd\">\n<!-- Created with matplotlib (https://matplotlib.org/) -->\n<svg height=\"264.089062pt\" version=\"1.1\" viewBox=\"0 0 381.65 264.089062\" width=\"381.65pt\" xmlns=\"http://www.w3.org/2000/svg\" xmlns:xlink=\"http://www.w3.org/1999/xlink\">\n <defs>\n  <style type=\"text/css\">\n*{stroke-linecap:butt;stroke-linejoin:round;}\n  </style>\n </defs>\n <g id=\"figure_1\">\n  <g id=\"patch_1\">\n   <path d=\"M -0 264.089062 \nL 381.65 264.089062 \nL 381.65 0 \nL -0 0 \nz\n\" style=\"fill:none;\"/>\n  </g>\n  <g id=\"axes_1\">\n   <g id=\"patch_2\">\n    <path d=\"M 39.65 239.9625 \nL 374.45 239.9625 \nL 374.45 22.5225 \nL 39.65 22.5225 \nz\n\" style=\"fill:#ffffff;\"/>\n   </g>\n   <g id=\"patch_3\">\n    <path clip-path=\"url(#p29561d8335)\" d=\"M 54.868182 239.9625 \nL 156.322727 239.9625 \nL 156.322727 32.876786 \nL 54.868182 32.876786 \nz\n\" style=\"fill:#1f77b4;\"/>\n   </g>\n   <g id=\"patch_4\">\n    <path clip-path=\"url(#p29561d8335)\" d=\"M 257.777273 239.9625 \nL 359.231818 239.9625 \nL 359.231818 149.387509 \nL 257.777273 149.387509 \nz\n\" style=\"fill:#1f77b4;\"/>\n   </g>\n   <g id=\"matplotlib.axis_1\">\n    <g id=\"xtick_1\">\n     <g id=\"line2d_1\">\n      <defs>\n       <path d=\"M 0 0 \nL 0 3.5 \n\" id=\"md264ab5316\" style=\"stroke:#000000;stroke-width:0.8;\"/>\n      </defs>\n      <g>\n       <use style=\"stroke:#000000;stroke-width:0.8;\" x=\"105.595455\" xlink:href=\"#md264ab5316\" y=\"239.9625\"/>\n      </g>\n     </g>\n     <g id=\"text_1\">\n      <!-- Açaí 1L -->\n      <defs>\n       <path d=\"M 34.1875 63.1875 \nL 20.796875 26.90625 \nL 47.609375 26.90625 \nz\nM 28.609375 72.90625 \nL 39.796875 72.90625 \nL 67.578125 0 \nL 57.328125 0 \nL 50.6875 18.703125 \nL 17.828125 18.703125 \nL 11.1875 0 \nL 0.78125 0 \nz\n\" id=\"DejaVuSans-65\"/>\n       <path d=\"M 48.78125 52.59375 \nL 48.78125 44.1875 \nQ 44.96875 46.296875 41.140625 47.34375 \nQ 37.3125 48.390625 33.40625 48.390625 \nQ 24.65625 48.390625 19.8125 42.84375 \nQ 14.984375 37.3125 14.984375 27.296875 \nQ 14.984375 17.28125 19.8125 11.734375 \nQ 24.65625 6.203125 33.40625 6.203125 \nQ 37.3125 6.203125 41.140625 7.25 \nQ 44.96875 8.296875 48.78125 10.40625 \nL 48.78125 2.09375 \nQ 45.015625 0.34375 40.984375 -0.53125 \nQ 36.96875 -1.421875 32.421875 -1.421875 \nQ 20.0625 -1.421875 12.78125 6.34375 \nQ 5.515625 14.109375 5.515625 27.296875 \nQ 5.515625 40.671875 12.859375 48.328125 \nQ 20.21875 56 33.015625 56 \nQ 37.15625 56 41.109375 55.140625 \nQ 45.0625 54.296875 48.78125 52.59375 \nz\nM 36.078125 0 \nQ 38.765625 -3.03125 40.078125 -5.59375 \nQ 41.40625 -8.15625 41.40625 -10.5 \nQ 41.40625 -14.84375 38.46875 -17.0625 \nQ 35.546875 -19.28125 29.78125 -19.28125 \nQ 27.546875 -19.28125 25.421875 -18.984375 \nQ 23.296875 -18.703125 21.1875 -18.109375 \nL 21.1875 -11.71875 \nQ 22.859375 -12.546875 24.65625 -12.90625 \nQ 26.46875 -13.28125 28.765625 -13.28125 \nQ 31.640625 -13.28125 33.109375 -12.109375 \nQ 34.578125 -10.9375 34.578125 -8.6875 \nQ 34.578125 -7.234375 33.515625 -5.109375 \nQ 32.46875 -2.984375 30.28125 0 \nz\n\" id=\"DejaVuSans-231\"/>\n       <path d=\"M 34.28125 27.484375 \nQ 23.390625 27.484375 19.1875 25 \nQ 14.984375 22.515625 14.984375 16.5 \nQ 14.984375 11.71875 18.140625 8.90625 \nQ 21.296875 6.109375 26.703125 6.109375 \nQ 34.1875 6.109375 38.703125 11.40625 \nQ 43.21875 16.703125 43.21875 25.484375 \nL 43.21875 27.484375 \nz\nM 52.203125 31.203125 \nL 52.203125 0 \nL 43.21875 0 \nL 43.21875 8.296875 \nQ 40.140625 3.328125 35.546875 0.953125 \nQ 30.953125 -1.421875 24.3125 -1.421875 \nQ 15.921875 -1.421875 10.953125 3.296875 \nQ 6 8.015625 6 15.921875 \nQ 6 25.140625 12.171875 29.828125 \nQ 18.359375 34.515625 30.609375 34.515625 \nL 43.21875 34.515625 \nL 43.21875 35.40625 \nQ 43.21875 41.609375 39.140625 45 \nQ 35.0625 48.390625 27.6875 48.390625 \nQ 23 48.390625 18.546875 47.265625 \nQ 14.109375 46.140625 10.015625 43.890625 \nL 10.015625 52.203125 \nQ 14.9375 54.109375 19.578125 55.046875 \nQ 24.21875 56 28.609375 56 \nQ 40.484375 56 46.34375 49.84375 \nQ 52.203125 43.703125 52.203125 31.203125 \nz\n\" id=\"DejaVuSans-97\"/>\n       <path d=\"M 20.703125 79.984375 \nL 30.421875 79.984375 \nL 14.5 61.625 \nL 7.03125 61.625 \nz\nM 9.421875 54.6875 \nL 18.40625 54.6875 \nL 18.40625 0 \nL 9.421875 0 \nz\nM 13.921875 56 \nz\n\" id=\"DejaVuSans-237\"/>\n       <path id=\"DejaVuSans-32\"/>\n       <path d=\"M 12.40625 8.296875 \nL 28.515625 8.296875 \nL 28.515625 63.921875 \nL 10.984375 60.40625 \nL 10.984375 69.390625 \nL 28.421875 72.90625 \nL 38.28125 72.90625 \nL 38.28125 8.296875 \nL 54.390625 8.296875 \nL 54.390625 0 \nL 12.40625 0 \nz\n\" id=\"DejaVuSans-49\"/>\n       <path d=\"M 9.8125 72.90625 \nL 19.671875 72.90625 \nL 19.671875 8.296875 \nL 55.171875 8.296875 \nL 55.171875 0 \nL 9.8125 0 \nz\n\" id=\"DejaVuSans-76\"/>\n      </defs>\n      <g transform=\"translate(87.504048 254.809375)scale(0.1 -0.1)\">\n       <use xlink:href=\"#DejaVuSans-65\"/>\n       <use x=\"66.658203\" xlink:href=\"#DejaVuSans-231\"/>\n       <use x=\"121.638672\" xlink:href=\"#DejaVuSans-97\"/>\n       <use x=\"182.917969\" xlink:href=\"#DejaVuSans-237\"/>\n       <use x=\"210.701172\" xlink:href=\"#DejaVuSans-32\"/>\n       <use x=\"242.488281\" xlink:href=\"#DejaVuSans-49\"/>\n       <use x=\"306.111328\" xlink:href=\"#DejaVuSans-76\"/>\n      </g>\n     </g>\n    </g>\n    <g id=\"xtick_2\">\n     <g id=\"line2d_2\">\n      <g>\n       <use style=\"stroke:#000000;stroke-width:0.8;\" x=\"308.504545\" xlink:href=\"#md264ab5316\" y=\"239.9625\"/>\n      </g>\n     </g>\n     <g id=\"text_2\">\n      <!-- Açaí 1L Zero -->\n      <defs>\n       <path d=\"M 5.609375 72.90625 \nL 62.890625 72.90625 \nL 62.890625 65.375 \nL 16.796875 8.296875 \nL 64.015625 8.296875 \nL 64.015625 0 \nL 4.5 0 \nL 4.5 7.515625 \nL 50.59375 64.59375 \nL 5.609375 64.59375 \nz\n\" id=\"DejaVuSans-90\"/>\n       <path d=\"M 56.203125 29.59375 \nL 56.203125 25.203125 \nL 14.890625 25.203125 \nQ 15.484375 15.921875 20.484375 11.0625 \nQ 25.484375 6.203125 34.421875 6.203125 \nQ 39.59375 6.203125 44.453125 7.46875 \nQ 49.3125 8.734375 54.109375 11.28125 \nL 54.109375 2.78125 \nQ 49.265625 0.734375 44.1875 -0.34375 \nQ 39.109375 -1.421875 33.890625 -1.421875 \nQ 20.796875 -1.421875 13.15625 6.1875 \nQ 5.515625 13.8125 5.515625 26.8125 \nQ 5.515625 40.234375 12.765625 48.109375 \nQ 20.015625 56 32.328125 56 \nQ 43.359375 56 49.78125 48.890625 \nQ 56.203125 41.796875 56.203125 29.59375 \nz\nM 47.21875 32.234375 \nQ 47.125 39.59375 43.09375 43.984375 \nQ 39.0625 48.390625 32.421875 48.390625 \nQ 24.90625 48.390625 20.390625 44.140625 \nQ 15.875 39.890625 15.1875 32.171875 \nz\n\" id=\"DejaVuSans-101\"/>\n       <path d=\"M 41.109375 46.296875 \nQ 39.59375 47.171875 37.8125 47.578125 \nQ 36.03125 48 33.890625 48 \nQ 26.265625 48 22.1875 43.046875 \nQ 18.109375 38.09375 18.109375 28.8125 \nL 18.109375 0 \nL 9.078125 0 \nL 9.078125 54.6875 \nL 18.109375 54.6875 \nL 18.109375 46.1875 \nQ 20.953125 51.171875 25.484375 53.578125 \nQ 30.03125 56 36.53125 56 \nQ 37.453125 56 38.578125 55.875 \nQ 39.703125 55.765625 41.0625 55.515625 \nz\n\" id=\"DejaVuSans-114\"/>\n       <path d=\"M 30.609375 48.390625 \nQ 23.390625 48.390625 19.1875 42.75 \nQ 14.984375 37.109375 14.984375 27.296875 \nQ 14.984375 17.484375 19.15625 11.84375 \nQ 23.34375 6.203125 30.609375 6.203125 \nQ 37.796875 6.203125 41.984375 11.859375 \nQ 46.1875 17.53125 46.1875 27.296875 \nQ 46.1875 37.015625 41.984375 42.703125 \nQ 37.796875 48.390625 30.609375 48.390625 \nz\nM 30.609375 56 \nQ 42.328125 56 49.015625 48.375 \nQ 55.71875 40.765625 55.71875 27.296875 \nQ 55.71875 13.875 49.015625 6.21875 \nQ 42.328125 -1.421875 30.609375 -1.421875 \nQ 18.84375 -1.421875 12.171875 6.21875 \nQ 5.515625 13.875 5.515625 27.296875 \nQ 5.515625 40.765625 12.171875 48.375 \nQ 18.84375 56 30.609375 56 \nz\n\" id=\"DejaVuSans-111\"/>\n      </defs>\n      <g transform=\"translate(277.32017 254.809375)scale(0.1 -0.1)\">\n       <use xlink:href=\"#DejaVuSans-65\"/>\n       <use x=\"66.658203\" xlink:href=\"#DejaVuSans-231\"/>\n       <use x=\"121.638672\" xlink:href=\"#DejaVuSans-97\"/>\n       <use x=\"182.917969\" xlink:href=\"#DejaVuSans-237\"/>\n       <use x=\"210.701172\" xlink:href=\"#DejaVuSans-32\"/>\n       <use x=\"242.488281\" xlink:href=\"#DejaVuSans-49\"/>\n       <use x=\"306.111328\" xlink:href=\"#DejaVuSans-76\"/>\n       <use x=\"361.824219\" xlink:href=\"#DejaVuSans-32\"/>\n       <use x=\"393.611328\" xlink:href=\"#DejaVuSans-90\"/>\n       <use x=\"462.117188\" xlink:href=\"#DejaVuSans-101\"/>\n       <use x=\"523.640625\" xlink:href=\"#DejaVuSans-114\"/>\n       <use x=\"562.503906\" xlink:href=\"#DejaVuSans-111\"/>\n      </g>\n     </g>\n    </g>\n   </g>\n   <g id=\"matplotlib.axis_2\">\n    <g id=\"ytick_1\">\n     <g id=\"line2d_3\">\n      <defs>\n       <path d=\"M 0 0 \nL -3.5 0 \n\" id=\"m1f324e6a8b\" style=\"stroke:#000000;stroke-width:0.8;\"/>\n      </defs>\n      <g>\n       <use style=\"stroke:#000000;stroke-width:0.8;\" x=\"39.65\" xlink:href=\"#m1f324e6a8b\" y=\"239.9625\"/>\n      </g>\n     </g>\n     <g id=\"text_3\">\n      <!-- 0 -->\n      <defs>\n       <path d=\"M 31.78125 66.40625 \nQ 24.171875 66.40625 20.328125 58.90625 \nQ 16.5 51.421875 16.5 36.375 \nQ 16.5 21.390625 20.328125 13.890625 \nQ 24.171875 6.390625 31.78125 6.390625 \nQ 39.453125 6.390625 43.28125 13.890625 \nQ 47.125 21.390625 47.125 36.375 \nQ 47.125 51.421875 43.28125 58.90625 \nQ 39.453125 66.40625 31.78125 66.40625 \nz\nM 31.78125 74.21875 \nQ 44.046875 74.21875 50.515625 64.515625 \nQ 56.984375 54.828125 56.984375 36.375 \nQ 56.984375 17.96875 50.515625 8.265625 \nQ 44.046875 -1.421875 31.78125 -1.421875 \nQ 19.53125 -1.421875 13.0625 8.265625 \nQ 6.59375 17.96875 6.59375 36.375 \nQ 6.59375 54.828125 13.0625 64.515625 \nQ 19.53125 74.21875 31.78125 74.21875 \nz\n\" id=\"DejaVuSans-48\"/>\n      </defs>\n      <g transform=\"translate(26.2875 243.761719)scale(0.1 -0.1)\">\n       <use xlink:href=\"#DejaVuSans-48\"/>\n      </g>\n     </g>\n    </g>\n    <g id=\"ytick_2\">\n     <g id=\"line2d_4\">\n      <g>\n       <use style=\"stroke:#000000;stroke-width:0.8;\" x=\"39.65\" xlink:href=\"#m1f324e6a8b\" y=\"211.44195\"/>\n      </g>\n     </g>\n     <g id=\"text_4\">\n      <!-- 1000 -->\n      <g transform=\"translate(7.2 215.241169)scale(0.1 -0.1)\">\n       <use xlink:href=\"#DejaVuSans-49\"/>\n       <use x=\"63.623047\" xlink:href=\"#DejaVuSans-48\"/>\n       <use x=\"127.246094\" xlink:href=\"#DejaVuSans-48\"/>\n       <use x=\"190.869141\" xlink:href=\"#DejaVuSans-48\"/>\n      </g>\n     </g>\n    </g>\n    <g id=\"ytick_3\">\n     <g id=\"line2d_5\">\n      <g>\n       <use style=\"stroke:#000000;stroke-width:0.8;\" x=\"39.65\" xlink:href=\"#m1f324e6a8b\" y=\"182.921401\"/>\n      </g>\n     </g>\n     <g id=\"text_5\">\n      <!-- 2000 -->\n      <defs>\n       <path d=\"M 19.1875 8.296875 \nL 53.609375 8.296875 \nL 53.609375 0 \nL 7.328125 0 \nL 7.328125 8.296875 \nQ 12.9375 14.109375 22.625 23.890625 \nQ 32.328125 33.6875 34.8125 36.53125 \nQ 39.546875 41.84375 41.421875 45.53125 \nQ 43.3125 49.21875 43.3125 52.78125 \nQ 43.3125 58.59375 39.234375 62.25 \nQ 35.15625 65.921875 28.609375 65.921875 \nQ 23.96875 65.921875 18.8125 64.3125 \nQ 13.671875 62.703125 7.8125 59.421875 \nL 7.8125 69.390625 \nQ 13.765625 71.78125 18.9375 73 \nQ 24.125 74.21875 28.421875 74.21875 \nQ 39.75 74.21875 46.484375 68.546875 \nQ 53.21875 62.890625 53.21875 53.421875 \nQ 53.21875 48.921875 51.53125 44.890625 \nQ 49.859375 40.875 45.40625 35.40625 \nQ 44.1875 33.984375 37.640625 27.21875 \nQ 31.109375 20.453125 19.1875 8.296875 \nz\n\" id=\"DejaVuSans-50\"/>\n      </defs>\n      <g transform=\"translate(7.2 186.72062)scale(0.1 -0.1)\">\n       <use xlink:href=\"#DejaVuSans-50\"/>\n       <use x=\"63.623047\" xlink:href=\"#DejaVuSans-48\"/>\n       <use x=\"127.246094\" xlink:href=\"#DejaVuSans-48\"/>\n       <use x=\"190.869141\" xlink:href=\"#DejaVuSans-48\"/>\n      </g>\n     </g>\n    </g>\n    <g id=\"ytick_4\">\n     <g id=\"line2d_6\">\n      <g>\n       <use style=\"stroke:#000000;stroke-width:0.8;\" x=\"39.65\" xlink:href=\"#m1f324e6a8b\" y=\"154.400851\"/>\n      </g>\n     </g>\n     <g id=\"text_6\">\n      <!-- 3000 -->\n      <defs>\n       <path d=\"M 40.578125 39.3125 \nQ 47.65625 37.796875 51.625 33 \nQ 55.609375 28.21875 55.609375 21.1875 \nQ 55.609375 10.40625 48.1875 4.484375 \nQ 40.765625 -1.421875 27.09375 -1.421875 \nQ 22.515625 -1.421875 17.65625 -0.515625 \nQ 12.796875 0.390625 7.625 2.203125 \nL 7.625 11.71875 \nQ 11.71875 9.328125 16.59375 8.109375 \nQ 21.484375 6.890625 26.8125 6.890625 \nQ 36.078125 6.890625 40.9375 10.546875 \nQ 45.796875 14.203125 45.796875 21.1875 \nQ 45.796875 27.640625 41.28125 31.265625 \nQ 36.765625 34.90625 28.71875 34.90625 \nL 20.21875 34.90625 \nL 20.21875 43.015625 \nL 29.109375 43.015625 \nQ 36.375 43.015625 40.234375 45.921875 \nQ 44.09375 48.828125 44.09375 54.296875 \nQ 44.09375 59.90625 40.109375 62.90625 \nQ 36.140625 65.921875 28.71875 65.921875 \nQ 24.65625 65.921875 20.015625 65.03125 \nQ 15.375 64.15625 9.8125 62.3125 \nL 9.8125 71.09375 \nQ 15.4375 72.65625 20.34375 73.4375 \nQ 25.25 74.21875 29.59375 74.21875 \nQ 40.828125 74.21875 47.359375 69.109375 \nQ 53.90625 64.015625 53.90625 55.328125 \nQ 53.90625 49.265625 50.4375 45.09375 \nQ 46.96875 40.921875 40.578125 39.3125 \nz\n\" id=\"DejaVuSans-51\"/>\n      </defs>\n      <g transform=\"translate(7.2 158.20007)scale(0.1 -0.1)\">\n       <use xlink:href=\"#DejaVuSans-51\"/>\n       <use x=\"63.623047\" xlink:href=\"#DejaVuSans-48\"/>\n       <use x=\"127.246094\" xlink:href=\"#DejaVuSans-48\"/>\n       <use x=\"190.869141\" xlink:href=\"#DejaVuSans-48\"/>\n      </g>\n     </g>\n    </g>\n    <g id=\"ytick_5\">\n     <g id=\"line2d_7\">\n      <g>\n       <use style=\"stroke:#000000;stroke-width:0.8;\" x=\"39.65\" xlink:href=\"#m1f324e6a8b\" y=\"125.880302\"/>\n      </g>\n     </g>\n     <g id=\"text_7\">\n      <!-- 4000 -->\n      <defs>\n       <path d=\"M 37.796875 64.3125 \nL 12.890625 25.390625 \nL 37.796875 25.390625 \nz\nM 35.203125 72.90625 \nL 47.609375 72.90625 \nL 47.609375 25.390625 \nL 58.015625 25.390625 \nL 58.015625 17.1875 \nL 47.609375 17.1875 \nL 47.609375 0 \nL 37.796875 0 \nL 37.796875 17.1875 \nL 4.890625 17.1875 \nL 4.890625 26.703125 \nz\n\" id=\"DejaVuSans-52\"/>\n      </defs>\n      <g transform=\"translate(7.2 129.67952)scale(0.1 -0.1)\">\n       <use xlink:href=\"#DejaVuSans-52\"/>\n       <use x=\"63.623047\" xlink:href=\"#DejaVuSans-48\"/>\n       <use x=\"127.246094\" xlink:href=\"#DejaVuSans-48\"/>\n       <use x=\"190.869141\" xlink:href=\"#DejaVuSans-48\"/>\n      </g>\n     </g>\n    </g>\n    <g id=\"ytick_6\">\n     <g id=\"line2d_8\">\n      <g>\n       <use style=\"stroke:#000000;stroke-width:0.8;\" x=\"39.65\" xlink:href=\"#m1f324e6a8b\" y=\"97.359752\"/>\n      </g>\n     </g>\n     <g id=\"text_8\">\n      <!-- 5000 -->\n      <defs>\n       <path d=\"M 10.796875 72.90625 \nL 49.515625 72.90625 \nL 49.515625 64.59375 \nL 19.828125 64.59375 \nL 19.828125 46.734375 \nQ 21.96875 47.46875 24.109375 47.828125 \nQ 26.265625 48.1875 28.421875 48.1875 \nQ 40.625 48.1875 47.75 41.5 \nQ 54.890625 34.8125 54.890625 23.390625 \nQ 54.890625 11.625 47.5625 5.09375 \nQ 40.234375 -1.421875 26.90625 -1.421875 \nQ 22.3125 -1.421875 17.546875 -0.640625 \nQ 12.796875 0.140625 7.71875 1.703125 \nL 7.71875 11.625 \nQ 12.109375 9.234375 16.796875 8.0625 \nQ 21.484375 6.890625 26.703125 6.890625 \nQ 35.15625 6.890625 40.078125 11.328125 \nQ 45.015625 15.765625 45.015625 23.390625 \nQ 45.015625 31 40.078125 35.4375 \nQ 35.15625 39.890625 26.703125 39.890625 \nQ 22.75 39.890625 18.8125 39.015625 \nQ 14.890625 38.140625 10.796875 36.28125 \nz\n\" id=\"DejaVuSans-53\"/>\n      </defs>\n      <g transform=\"translate(7.2 101.158971)scale(0.1 -0.1)\">\n       <use xlink:href=\"#DejaVuSans-53\"/>\n       <use x=\"63.623047\" xlink:href=\"#DejaVuSans-48\"/>\n       <use x=\"127.246094\" xlink:href=\"#DejaVuSans-48\"/>\n       <use x=\"190.869141\" xlink:href=\"#DejaVuSans-48\"/>\n      </g>\n     </g>\n    </g>\n    <g id=\"ytick_7\">\n     <g id=\"line2d_9\">\n      <g>\n       <use style=\"stroke:#000000;stroke-width:0.8;\" x=\"39.65\" xlink:href=\"#m1f324e6a8b\" y=\"68.839202\"/>\n      </g>\n     </g>\n     <g id=\"text_9\">\n      <!-- 6000 -->\n      <defs>\n       <path d=\"M 33.015625 40.375 \nQ 26.375 40.375 22.484375 35.828125 \nQ 18.609375 31.296875 18.609375 23.390625 \nQ 18.609375 15.53125 22.484375 10.953125 \nQ 26.375 6.390625 33.015625 6.390625 \nQ 39.65625 6.390625 43.53125 10.953125 \nQ 47.40625 15.53125 47.40625 23.390625 \nQ 47.40625 31.296875 43.53125 35.828125 \nQ 39.65625 40.375 33.015625 40.375 \nz\nM 52.59375 71.296875 \nL 52.59375 62.3125 \nQ 48.875 64.0625 45.09375 64.984375 \nQ 41.3125 65.921875 37.59375 65.921875 \nQ 27.828125 65.921875 22.671875 59.328125 \nQ 17.53125 52.734375 16.796875 39.40625 \nQ 19.671875 43.65625 24.015625 45.921875 \nQ 28.375 48.1875 33.59375 48.1875 \nQ 44.578125 48.1875 50.953125 41.515625 \nQ 57.328125 34.859375 57.328125 23.390625 \nQ 57.328125 12.15625 50.6875 5.359375 \nQ 44.046875 -1.421875 33.015625 -1.421875 \nQ 20.359375 -1.421875 13.671875 8.265625 \nQ 6.984375 17.96875 6.984375 36.375 \nQ 6.984375 53.65625 15.1875 63.9375 \nQ 23.390625 74.21875 37.203125 74.21875 \nQ 40.921875 74.21875 44.703125 73.484375 \nQ 48.484375 72.75 52.59375 71.296875 \nz\n\" id=\"DejaVuSans-54\"/>\n      </defs>\n      <g transform=\"translate(7.2 72.638421)scale(0.1 -0.1)\">\n       <use xlink:href=\"#DejaVuSans-54\"/>\n       <use x=\"63.623047\" xlink:href=\"#DejaVuSans-48\"/>\n       <use x=\"127.246094\" xlink:href=\"#DejaVuSans-48\"/>\n       <use x=\"190.869141\" xlink:href=\"#DejaVuSans-48\"/>\n      </g>\n     </g>\n    </g>\n    <g id=\"ytick_8\">\n     <g id=\"line2d_10\">\n      <g>\n       <use style=\"stroke:#000000;stroke-width:0.8;\" x=\"39.65\" xlink:href=\"#m1f324e6a8b\" y=\"40.318653\"/>\n      </g>\n     </g>\n     <g id=\"text_10\">\n      <!-- 7000 -->\n      <defs>\n       <path d=\"M 8.203125 72.90625 \nL 55.078125 72.90625 \nL 55.078125 68.703125 \nL 28.609375 0 \nL 18.3125 0 \nL 43.21875 64.59375 \nL 8.203125 64.59375 \nz\n\" id=\"DejaVuSans-55\"/>\n      </defs>\n      <g transform=\"translate(7.2 44.117871)scale(0.1 -0.1)\">\n       <use xlink:href=\"#DejaVuSans-55\"/>\n       <use x=\"63.623047\" xlink:href=\"#DejaVuSans-48\"/>\n       <use x=\"127.246094\" xlink:href=\"#DejaVuSans-48\"/>\n       <use x=\"190.869141\" xlink:href=\"#DejaVuSans-48\"/>\n      </g>\n     </g>\n    </g>\n   </g>\n   <g id=\"patch_5\">\n    <path d=\"M 39.65 239.9625 \nL 39.65 22.5225 \n\" style=\"fill:none;stroke:#000000;stroke-linecap:square;stroke-linejoin:miter;stroke-width:0.8;\"/>\n   </g>\n   <g id=\"patch_6\">\n    <path d=\"M 374.45 239.9625 \nL 374.45 22.5225 \n\" style=\"fill:none;stroke:#000000;stroke-linecap:square;stroke-linejoin:miter;stroke-width:0.8;\"/>\n   </g>\n   <g id=\"patch_7\">\n    <path d=\"M 39.65 239.9625 \nL 374.45 239.9625 \n\" style=\"fill:none;stroke:#000000;stroke-linecap:square;stroke-linejoin:miter;stroke-width:0.8;\"/>\n   </g>\n   <g id=\"patch_8\">\n    <path d=\"M 39.65 22.5225 \nL 374.45 22.5225 \n\" style=\"fill:none;stroke:#000000;stroke-linecap:square;stroke-linejoin:miter;stroke-width:0.8;\"/>\n   </g>\n   <g id=\"text_11\">\n    <!-- Comparação de arrecadação total por produto -->\n    <defs>\n     <path d=\"M 64.40625 67.28125 \nL 64.40625 56.890625 \nQ 59.421875 61.53125 53.78125 63.8125 \nQ 48.140625 66.109375 41.796875 66.109375 \nQ 29.296875 66.109375 22.65625 58.46875 \nQ 16.015625 50.828125 16.015625 36.375 \nQ 16.015625 21.96875 22.65625 14.328125 \nQ 29.296875 6.6875 41.796875 6.6875 \nQ 48.140625 6.6875 53.78125 8.984375 \nQ 59.421875 11.28125 64.40625 15.921875 \nL 64.40625 5.609375 \nQ 59.234375 2.09375 53.4375 0.328125 \nQ 47.65625 -1.421875 41.21875 -1.421875 \nQ 24.65625 -1.421875 15.125 8.703125 \nQ 5.609375 18.84375 5.609375 36.375 \nQ 5.609375 53.953125 15.125 64.078125 \nQ 24.65625 74.21875 41.21875 74.21875 \nQ 47.75 74.21875 53.53125 72.484375 \nQ 59.328125 70.75 64.40625 67.28125 \nz\n\" id=\"DejaVuSans-67\"/>\n     <path d=\"M 52 44.1875 \nQ 55.375 50.25 60.0625 53.125 \nQ 64.75 56 71.09375 56 \nQ 79.640625 56 84.28125 50.015625 \nQ 88.921875 44.046875 88.921875 33.015625 \nL 88.921875 0 \nL 79.890625 0 \nL 79.890625 32.71875 \nQ 79.890625 40.578125 77.09375 44.375 \nQ 74.3125 48.1875 68.609375 48.1875 \nQ 61.625 48.1875 57.5625 43.546875 \nQ 53.515625 38.921875 53.515625 30.90625 \nL 53.515625 0 \nL 44.484375 0 \nL 44.484375 32.71875 \nQ 44.484375 40.625 41.703125 44.40625 \nQ 38.921875 48.1875 33.109375 48.1875 \nQ 26.21875 48.1875 22.15625 43.53125 \nQ 18.109375 38.875 18.109375 30.90625 \nL 18.109375 0 \nL 9.078125 0 \nL 9.078125 54.6875 \nL 18.109375 54.6875 \nL 18.109375 46.1875 \nQ 21.1875 51.21875 25.484375 53.609375 \nQ 29.78125 56 35.6875 56 \nQ 41.65625 56 45.828125 52.96875 \nQ 50 49.953125 52 44.1875 \nz\n\" id=\"DejaVuSans-109\"/>\n     <path d=\"M 18.109375 8.203125 \nL 18.109375 -20.796875 \nL 9.078125 -20.796875 \nL 9.078125 54.6875 \nL 18.109375 54.6875 \nL 18.109375 46.390625 \nQ 20.953125 51.265625 25.265625 53.625 \nQ 29.59375 56 35.59375 56 \nQ 45.5625 56 51.78125 48.09375 \nQ 58.015625 40.1875 58.015625 27.296875 \nQ 58.015625 14.40625 51.78125 6.484375 \nQ 45.5625 -1.421875 35.59375 -1.421875 \nQ 29.59375 -1.421875 25.265625 0.953125 \nQ 20.953125 3.328125 18.109375 8.203125 \nz\nM 48.6875 27.296875 \nQ 48.6875 37.203125 44.609375 42.84375 \nQ 40.53125 48.484375 33.40625 48.484375 \nQ 26.265625 48.484375 22.1875 42.84375 \nQ 18.109375 37.203125 18.109375 27.296875 \nQ 18.109375 17.390625 22.1875 11.75 \nQ 26.265625 6.109375 33.40625 6.109375 \nQ 40.53125 6.109375 44.609375 11.75 \nQ 48.6875 17.390625 48.6875 27.296875 \nz\n\" id=\"DejaVuSans-112\"/>\n     <path d=\"M 34.28125 27.484375 \nQ 23.390625 27.484375 19.1875 25 \nQ 14.984375 22.515625 14.984375 16.5 \nQ 14.984375 11.71875 18.140625 8.90625 \nQ 21.296875 6.109375 26.703125 6.109375 \nQ 34.1875 6.109375 38.703125 11.40625 \nQ 43.21875 16.703125 43.21875 25.484375 \nL 43.21875 27.484375 \nz\nM 52.203125 31.203125 \nL 52.203125 0 \nL 43.21875 0 \nL 43.21875 8.296875 \nQ 40.140625 3.328125 35.546875 0.953125 \nQ 30.953125 -1.421875 24.3125 -1.421875 \nQ 15.921875 -1.421875 10.953125 3.296875 \nQ 6 8.015625 6 15.921875 \nQ 6 25.140625 12.171875 29.828125 \nQ 18.359375 34.515625 30.609375 34.515625 \nL 43.21875 34.515625 \nL 43.21875 35.40625 \nQ 43.21875 41.609375 39.140625 45 \nQ 35.0625 48.390625 27.6875 48.390625 \nQ 23 48.390625 18.546875 47.265625 \nQ 14.109375 46.140625 10.015625 43.890625 \nL 10.015625 52.203125 \nQ 14.9375 54.109375 19.578125 55.046875 \nQ 24.21875 56 28.609375 56 \nQ 40.484375 56 46.34375 49.84375 \nQ 52.203125 43.703125 52.203125 31.203125 \nz\nM 28.8125 66.890625 \nL 26.03125 69.578125 \nQ 24.953125 70.5625 24.140625 71.015625 \nQ 23.34375 71.484375 22.703125 71.484375 \nQ 20.84375 71.484375 19.96875 69.703125 \nQ 19.09375 67.921875 19 63.921875 \nL 12.890625 63.921875 \nQ 12.984375 70.515625 15.46875 74.09375 \nQ 17.96875 77.6875 22.40625 77.6875 \nQ 24.265625 77.6875 25.828125 77 \nQ 27.390625 76.3125 29.203125 74.703125 \nL 31.984375 72.015625 \nQ 33.0625 71.046875 33.859375 70.578125 \nQ 34.671875 70.125 35.296875 70.125 \nQ 37.15625 70.125 38.03125 71.90625 \nQ 38.921875 73.6875 39.015625 77.6875 \nL 45.125 77.6875 \nQ 45.015625 71.09375 42.53125 67.5 \nQ 40.046875 63.921875 35.59375 63.921875 \nQ 33.734375 63.921875 32.171875 64.59375 \nQ 30.609375 65.28125 28.8125 66.890625 \nz\n\" id=\"DejaVuSans-227\"/>\n     <path d=\"M 45.40625 46.390625 \nL 45.40625 75.984375 \nL 54.390625 75.984375 \nL 54.390625 0 \nL 45.40625 0 \nL 45.40625 8.203125 \nQ 42.578125 3.328125 38.25 0.953125 \nQ 33.9375 -1.421875 27.875 -1.421875 \nQ 17.96875 -1.421875 11.734375 6.484375 \nQ 5.515625 14.40625 5.515625 27.296875 \nQ 5.515625 40.1875 11.734375 48.09375 \nQ 17.96875 56 27.875 56 \nQ 33.9375 56 38.25 53.625 \nQ 42.578125 51.265625 45.40625 46.390625 \nz\nM 14.796875 27.296875 \nQ 14.796875 17.390625 18.875 11.75 \nQ 22.953125 6.109375 30.078125 6.109375 \nQ 37.203125 6.109375 41.296875 11.75 \nQ 45.40625 17.390625 45.40625 27.296875 \nQ 45.40625 37.203125 41.296875 42.84375 \nQ 37.203125 48.484375 30.078125 48.484375 \nQ 22.953125 48.484375 18.875 42.84375 \nQ 14.796875 37.203125 14.796875 27.296875 \nz\n\" id=\"DejaVuSans-100\"/>\n     <path d=\"M 48.78125 52.59375 \nL 48.78125 44.1875 \nQ 44.96875 46.296875 41.140625 47.34375 \nQ 37.3125 48.390625 33.40625 48.390625 \nQ 24.65625 48.390625 19.8125 42.84375 \nQ 14.984375 37.3125 14.984375 27.296875 \nQ 14.984375 17.28125 19.8125 11.734375 \nQ 24.65625 6.203125 33.40625 6.203125 \nQ 37.3125 6.203125 41.140625 7.25 \nQ 44.96875 8.296875 48.78125 10.40625 \nL 48.78125 2.09375 \nQ 45.015625 0.34375 40.984375 -0.53125 \nQ 36.96875 -1.421875 32.421875 -1.421875 \nQ 20.0625 -1.421875 12.78125 6.34375 \nQ 5.515625 14.109375 5.515625 27.296875 \nQ 5.515625 40.671875 12.859375 48.328125 \nQ 20.21875 56 33.015625 56 \nQ 37.15625 56 41.109375 55.140625 \nQ 45.0625 54.296875 48.78125 52.59375 \nz\n\" id=\"DejaVuSans-99\"/>\n     <path d=\"M 18.3125 70.21875 \nL 18.3125 54.6875 \nL 36.8125 54.6875 \nL 36.8125 47.703125 \nL 18.3125 47.703125 \nL 18.3125 18.015625 \nQ 18.3125 11.328125 20.140625 9.421875 \nQ 21.96875 7.515625 27.59375 7.515625 \nL 36.8125 7.515625 \nL 36.8125 0 \nL 27.59375 0 \nQ 17.1875 0 13.234375 3.875 \nQ 9.28125 7.765625 9.28125 18.015625 \nL 9.28125 47.703125 \nL 2.6875 47.703125 \nL 2.6875 54.6875 \nL 9.28125 54.6875 \nL 9.28125 70.21875 \nz\n\" id=\"DejaVuSans-116\"/>\n     <path d=\"M 9.421875 75.984375 \nL 18.40625 75.984375 \nL 18.40625 0 \nL 9.421875 0 \nz\n\" id=\"DejaVuSans-108\"/>\n     <path d=\"M 8.5 21.578125 \nL 8.5 54.6875 \nL 17.484375 54.6875 \nL 17.484375 21.921875 \nQ 17.484375 14.15625 20.5 10.265625 \nQ 23.53125 6.390625 29.59375 6.390625 \nQ 36.859375 6.390625 41.078125 11.03125 \nQ 45.3125 15.671875 45.3125 23.6875 \nL 45.3125 54.6875 \nL 54.296875 54.6875 \nL 54.296875 0 \nL 45.3125 0 \nL 45.3125 8.40625 \nQ 42.046875 3.421875 37.71875 1 \nQ 33.40625 -1.421875 27.6875 -1.421875 \nQ 18.265625 -1.421875 13.375 4.4375 \nQ 8.5 10.296875 8.5 21.578125 \nz\nM 31.109375 56 \nz\n\" id=\"DejaVuSans-117\"/>\n    </defs>\n    <g transform=\"translate(67.74875 16.5225)scale(0.12 -0.12)\">\n     <use xlink:href=\"#DejaVuSans-67\"/>\n     <use x=\"69.824219\" xlink:href=\"#DejaVuSans-111\"/>\n     <use x=\"131.005859\" xlink:href=\"#DejaVuSans-109\"/>\n     <use x=\"228.417969\" xlink:href=\"#DejaVuSans-112\"/>\n     <use x=\"291.894531\" xlink:href=\"#DejaVuSans-97\"/>\n     <use x=\"353.173828\" xlink:href=\"#DejaVuSans-114\"/>\n     <use x=\"394.287109\" xlink:href=\"#DejaVuSans-97\"/>\n     <use x=\"455.566406\" xlink:href=\"#DejaVuSans-231\"/>\n     <use x=\"510.546875\" xlink:href=\"#DejaVuSans-227\"/>\n     <use x=\"571.826172\" xlink:href=\"#DejaVuSans-111\"/>\n     <use x=\"633.007812\" xlink:href=\"#DejaVuSans-32\"/>\n     <use x=\"664.794922\" xlink:href=\"#DejaVuSans-100\"/>\n     <use x=\"728.271484\" xlink:href=\"#DejaVuSans-101\"/>\n     <use x=\"789.794922\" xlink:href=\"#DejaVuSans-32\"/>\n     <use x=\"821.582031\" xlink:href=\"#DejaVuSans-97\"/>\n     <use x=\"882.861328\" xlink:href=\"#DejaVuSans-114\"/>\n     <use x=\"922.224609\" xlink:href=\"#DejaVuSans-114\"/>\n     <use x=\"961.087891\" xlink:href=\"#DejaVuSans-101\"/>\n     <use x=\"1022.611328\" xlink:href=\"#DejaVuSans-99\"/>\n     <use x=\"1077.591797\" xlink:href=\"#DejaVuSans-97\"/>\n     <use x=\"1138.871094\" xlink:href=\"#DejaVuSans-100\"/>\n     <use x=\"1202.347656\" xlink:href=\"#DejaVuSans-97\"/>\n     <use x=\"1263.626953\" xlink:href=\"#DejaVuSans-231\"/>\n     <use x=\"1318.607422\" xlink:href=\"#DejaVuSans-227\"/>\n     <use x=\"1379.886719\" xlink:href=\"#DejaVuSans-111\"/>\n     <use x=\"1441.068359\" xlink:href=\"#DejaVuSans-32\"/>\n     <use x=\"1472.855469\" xlink:href=\"#DejaVuSans-116\"/>\n     <use x=\"1512.064453\" xlink:href=\"#DejaVuSans-111\"/>\n     <use x=\"1573.246094\" xlink:href=\"#DejaVuSans-116\"/>\n     <use x=\"1612.455078\" xlink:href=\"#DejaVuSans-97\"/>\n     <use x=\"1673.734375\" xlink:href=\"#DejaVuSans-108\"/>\n     <use x=\"1701.517578\" xlink:href=\"#DejaVuSans-32\"/>\n     <use x=\"1733.304688\" xlink:href=\"#DejaVuSans-112\"/>\n     <use x=\"1796.78125\" xlink:href=\"#DejaVuSans-111\"/>\n     <use x=\"1857.962891\" xlink:href=\"#DejaVuSans-114\"/>\n     <use x=\"1899.076172\" xlink:href=\"#DejaVuSans-32\"/>\n     <use x=\"1930.863281\" xlink:href=\"#DejaVuSans-112\"/>\n     <use x=\"1994.339844\" xlink:href=\"#DejaVuSans-114\"/>\n     <use x=\"2033.203125\" xlink:href=\"#DejaVuSans-111\"/>\n     <use x=\"2094.384766\" xlink:href=\"#DejaVuSans-100\"/>\n     <use x=\"2157.861328\" xlink:href=\"#DejaVuSans-117\"/>\n     <use x=\"2221.240234\" xlink:href=\"#DejaVuSans-116\"/>\n     <use x=\"2260.449219\" xlink:href=\"#DejaVuSans-111\"/>\n    </g>\n   </g>\n  </g>\n </g>\n <defs>\n  <clipPath id=\"p29561d8335\">\n   <rect height=\"217.44\" width=\"334.8\" x=\"39.65\" y=\"22.5225\"/>\n  </clipPath>\n </defs>\n</svg>\n",
      "image/png": "[encoded data removed]"
     },
     "metadata": {
      "needs_background": "light"
     }
    }
   ],
   "source": [
    "plt.title('Comparação de arrecadação total por produto')\n",
    "plt.bar(produtos, [total_produto1, total_produto2], width=0.5)\n",
    "plt.savefig('./images/comparacao-arrecadao-total-por-produto.png')  "
   ]
  },
  {
   "source": [
    "### Porcentagem do valor total de venda de Açaí 1L em relação ao Açaí 1L Zero\n",
    "\n",
    "**128.26%** maior"
   ],
   "cell_type": "markdown",
   "metadata": {}
  },
  {
   "source": [
    "porcentagem_relacao_produto = ((total_produto1 - total_produto2) / total_produto2) * 100\n",
    "porcentagem_relacao_produto"
   ],
   "cell_type": "code",
   "metadata": {},
   "execution_count": 12,
   "outputs": [
    {
     "output_type": "execute_result",
     "data": {
      "text/plain": [
       "128.63454017595672"
      ]
     },
     "metadata": {},
     "execution_count": 12
    }
   ]
  },
  {
   "source": [],
   "cell_type": "markdown",
   "metadata": {}
  },
  {
   "cell_type": "code",
   "execution_count": 35,
   "metadata": {},
   "outputs": [
    {
     "output_type": "execute_result",
     "data": {
      "text/plain": [
       "               Loja            codloja              EAN  quantidade  \\\n",
       "produto                                                               \n",
       "Açaí 1L       89440  10320659648038796  686086221912208         291   \n",
       "Açaí 1L Zero  13760   1587793792004320  252636822448544          39   \n",
       "\n",
       "              valor_total  \n",
       "produto                    \n",
       "Açaí 1L           2685.31  \n",
       "Açaí 1L Zero       359.92  "
      ],
      "text/html": "<div>\n<style scoped>\n    .dataframe tbody tr th:only-of-type {\n        vertical-align: middle;\n    }\n\n    .dataframe tbody tr th {\n        vertical-align: top;\n    }\n\n    .dataframe thead th {\n        text-align: right;\n    }\n</style>\n<table border=\"1\" class=\"dataframe\">\n  <thead>\n    <tr style=\"text-align: right;\">\n      <th></th>\n      <th>Loja</th>\n      <th>codloja</th>\n      <th>EAN</th>\n      <th>quantidade</th>\n      <th>valor_total</th>\n    </tr>\n    <tr>\n      <th>produto</th>\n      <th></th>\n      <th></th>\n      <th></th>\n      <th></th>\n      <th></th>\n    </tr>\n  </thead>\n  <tbody>\n    <tr>\n      <th>Açaí 1L</th>\n      <td>89440</td>\n      <td>10320659648038796</td>\n      <td>686086221912208</td>\n      <td>291</td>\n      <td>2685.31</td>\n    </tr>\n    <tr>\n      <th>Açaí 1L Zero</th>\n      <td>13760</td>\n      <td>1587793792004320</td>\n      <td>252636822448544</td>\n      <td>39</td>\n      <td>359.92</td>\n    </tr>\n  </tbody>\n</table>\n</div>"
     },
     "metadata": {},
     "execution_count": 35
    }
   ],
   "source": [
    "dataset = dataset.sort_values(['data_compra'])\n",
    "test = dataset[dataset['data_compra'] == '2019-07-02']\n",
    "test.groupby('produto').sum()"
   ]
  },
  {
   "cell_type": "code",
   "execution_count": null,
   "metadata": {},
   "outputs": [],
   "source": []
  },
  {
   "source": [],
   "cell_type": "markdown",
   "metadata": {}
  },
  {
   "cell_type": "code",
   "execution_count": null,
   "metadata": {},
   "outputs": [],
   "source": []
  }
 ]
}